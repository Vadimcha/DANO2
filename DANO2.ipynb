{
  "nbformat": 4,
  "nbformat_minor": 0,
  "metadata": {
    "colab": {
      "provenance": [],
      "authorship_tag": "ABX9TyNStHjPp5mnfGSX0k8Oo5tR",
      "include_colab_link": true
    },
    "kernelspec": {
      "name": "python3",
      "display_name": "Python 3"
    },
    "language_info": {
      "name": "python"
    }
  },
  "cells": [
    {
      "cell_type": "markdown",
      "metadata": {
        "id": "view-in-github",
        "colab_type": "text"
      },
      "source": [
        "<a href=\"https://colab.research.google.com/github/Vadimcha/DANO2/blob/main/DANO2.ipynb\" target=\"_parent\"><img src=\"https://colab.research.google.com/assets/colab-badge.svg\" alt=\"Open In Colab\"/></a>"
      ]
    },
    {
      "cell_type": "code",
      "execution_count": 2,
      "metadata": {
        "id": "NOUTAndTN9nj"
      },
      "outputs": [],
      "source": [
        "import pandas as pd\n",
        "import numpy as np\n",
        "import matplotlib as plt"
      ]
    },
    {
      "cell_type": "code",
      "source": [
        "data = pd.read_excel('./DB.xls') # База данных уже без выбросов\n",
        "services = data.columns[10:]\n",
        "data.columns"
      ],
      "metadata": {
        "colab": {
          "base_uri": "https://localhost:8080/"
        },
        "id": "BWSX9AtEOfo3",
        "outputId": "26a582fc-cd58-4900-f08f-33226ec01028"
      },
      "execution_count": 43,
      "outputs": [
        {
          "output_type": "execute_result",
          "data": {
            "text/plain": [
              "Index(['user_id', 'sex', 'age', 'region', 'bundle', 'num_sessions',\n",
              "       'avg_session', 'service', 'order_date', 'price', 'fuel', 'cinema',\n",
              "       'vkusvill', 'travel', 'restaurants', 'concerts', 'games', 'books',\n",
              "       'theater', 'sports', 'beauty', 'flowers', 'technology'],\n",
              "      dtype='object')"
            ]
          },
          "metadata": {},
          "execution_count": 43
        }
      ]
    },
    {
      "cell_type": "code",
      "source": [
        "# Факторы объединения значений\n",
        "factors = {\n",
        "    'user_id': [],\n",
        "    'num_sessions': ['sum'],\n",
        "    'avg_session': ['mean'],\n",
        "    'price': ['sum'],\n",
        "    'fuel': ['sum'], \n",
        "    'cinema': ['sum'],\n",
        "    'vkusvill': ['sum'], \n",
        "    'travel': ['sum'], \n",
        "    'restaurants': ['sum'], \n",
        "    'concerts': ['sum'], \n",
        "    'games': ['sum'], \n",
        "    'books': ['sum'],\n",
        "    'theater': ['sum'], \n",
        "    'sports': ['sum'], \n",
        "    'beauty': ['sum'], \n",
        "    'flowers': ['sum'], \n",
        "    'technology': ['sum']\n",
        "}\n",
        "\n",
        "dataUnique = data.groupby('user_id').agg(factors).round(2)\n",
        "dataUnique = dataUnique.reset_index()\n",
        "\n",
        "dataUnique.columns = ['user_id', 'summSessions', 'avg_session', 'summPrice', 'fuel', 'cinema', 'vkusvill',\t\n",
        "                     'travel',\t'restaurants',\t'concerts',\t'games',\t'books',\t'theater',\t'sports',\t\n",
        "                      'beauty',\t'flowers',\t'technology']\n",
        "# dataUnique.head(100)"
      ],
      "metadata": {
        "id": "2LP0xd7PQlh6"
      },
      "execution_count": 71,
      "outputs": []
    },
    {
      "cell_type": "code",
      "source": [
        "print(dataUnique.shape[0])\n",
        "print(len(dataUnique[dataUnique['fuel'] > 1]) + len(dataUnique[dataUnique['fuel'] < 2]))"
      ],
      "metadata": {
        "colab": {
          "base_uri": "https://localhost:8080/"
        },
        "id": "enfJ6QzmZU9u",
        "outputId": "3e0d8810-0ed6-42c5-918b-60ad7294cc9a"
      },
      "execution_count": 47,
      "outputs": [
        {
          "output_type": "stream",
          "name": "stdout",
          "text": [
            "9333\n",
            "9333\n"
          ]
        }
      ]
    },
    {
      "cell_type": "code",
      "source": [
        "# Подсчет коэффициэнта возвращаемости по формуле X/(X+Y), где X - кол-во людей кто купил категорию 2 и более раз, Y - менее соответственно\n",
        "\n",
        "# m['X'] = [Y, Z]  значит, что в категории X, Y человек, которые покупали более одного раза, и Z человек менее\n",
        "m = {}\n",
        "koef = {}\n",
        "for serv in services:\n",
        "  m[serv] = [len(dataUnique[dataUnique[serv] >= 2]), len(dataUnique[dataUnique[serv] < 2])]\n",
        "  koef[serv] = m[serv][0] / (m[serv][0] + m[serv][1])\n",
        "\n",
        "koef = list(sorted(koef.items(), key=lambda item: item[1]))[::-1]\n",
        "koef"
      ],
      "metadata": {
        "colab": {
          "base_uri": "https://localhost:8080/"
        },
        "id": "VU-zLJDhSlii",
        "outputId": "08b17fb0-6bfd-4fc4-e54e-86fc2f988c1d"
      },
      "execution_count": 100,
      "outputs": [
        {
          "output_type": "execute_result",
          "data": {
            "text/plain": [
              "[('cinema', 0.2256509161041466),\n",
              " ('travel', 0.0692167577413479),\n",
              " ('fuel', 0.047144540876459876),\n",
              " ('concerts', 0.015429122468659595),\n",
              " ('games', 0.012643308689596056),\n",
              " ('vkusvill', 0.010714668381013608),\n",
              " ('theater', 0.003857280617164899),\n",
              " ('books', 0.0028929604628736743),\n",
              " ('sports', 0.0022500803600128574),\n",
              " ('flowers', 0.0017143469409621772),\n",
              " ('restaurants', 0.0017143469409621772),\n",
              " ('technology', 0.0),\n",
              " ('beauty', 0.0)]"
            ]
          },
          "metadata": {},
          "execution_count": 100
        }
      ]
    },
    {
      "cell_type": "code",
      "source": [
        "Users = {}  # по ключу user_id доступны все записи отсортированные по датам\n",
        "\n",
        "for user in dataUnique['user_id']:\n",
        "    Users[user] = data[data['user_id'] == user].copy()  # Создание копии DataFrame\n",
        "    Users[user]['order_date'] = pd.to_datetime(Users[user]['order_date'])  # Преобразование столбца 'order_date' в формат даты\n",
        "    Users[user].sort_values(by='order_date', inplace=True)"
      ],
      "metadata": {
        "id": "6wcixGVrXD66"
      },
      "execution_count": 114,
      "outputs": []
    },
    {
      "cell_type": "code",
      "source": [
        "Users[11]"
      ],
      "metadata": {
        "colab": {
          "base_uri": "https://localhost:8080/",
          "height": 289
        },
        "id": "48xDj0v3n-mR",
        "outputId": "2e71e166-3f9a-41eb-a793-0f3f0306e316"
      },
      "execution_count": 115,
      "outputs": [
        {
          "output_type": "execute_result",
          "data": {
            "text/plain": [
              "   user_id sex  age                 region           bundle  num_sessions  \\\n",
              "3       11   M   17  Нижегородская область      Tinkoff Pro        2422.0   \n",
              "1       11   M   17  Нижегородская область  Tinkoff Premium        2422.0   \n",
              "2       11   M   17  Нижегородская область        No bundle        2422.0   \n",
              "\n",
              "   avg_session  service order_date   price  ...  travel  restaurants  \\\n",
              "3     66.21814  Топливо 2022-08-20  234.63  ...       0            0   \n",
              "1     66.21814  Топливо 2022-11-04  234.60  ...       0            0   \n",
              "2     66.21814  Топливо 2022-11-21  234.63  ...       0            0   \n",
              "\n",
              "   concerts  games  books  theater  sports  beauty  flowers  technology  \n",
              "3         0      0      0        0       0       0        0           0  \n",
              "1         0      0      0        0       0       0        0           0  \n",
              "2         0      0      0        0       0       0        0           0  \n",
              "\n",
              "[3 rows x 23 columns]"
            ],
            "text/html": [
              "\n",
              "  <div id=\"df-df75e3d4-db49-47fe-9bf2-33e1d5be7b0d\">\n",
              "    <div class=\"colab-df-container\">\n",
              "      <div>\n",
              "<style scoped>\n",
              "    .dataframe tbody tr th:only-of-type {\n",
              "        vertical-align: middle;\n",
              "    }\n",
              "\n",
              "    .dataframe tbody tr th {\n",
              "        vertical-align: top;\n",
              "    }\n",
              "\n",
              "    .dataframe thead th {\n",
              "        text-align: right;\n",
              "    }\n",
              "</style>\n",
              "<table border=\"1\" class=\"dataframe\">\n",
              "  <thead>\n",
              "    <tr style=\"text-align: right;\">\n",
              "      <th></th>\n",
              "      <th>user_id</th>\n",
              "      <th>sex</th>\n",
              "      <th>age</th>\n",
              "      <th>region</th>\n",
              "      <th>bundle</th>\n",
              "      <th>num_sessions</th>\n",
              "      <th>avg_session</th>\n",
              "      <th>service</th>\n",
              "      <th>order_date</th>\n",
              "      <th>price</th>\n",
              "      <th>...</th>\n",
              "      <th>travel</th>\n",
              "      <th>restaurants</th>\n",
              "      <th>concerts</th>\n",
              "      <th>games</th>\n",
              "      <th>books</th>\n",
              "      <th>theater</th>\n",
              "      <th>sports</th>\n",
              "      <th>beauty</th>\n",
              "      <th>flowers</th>\n",
              "      <th>technology</th>\n",
              "    </tr>\n",
              "  </thead>\n",
              "  <tbody>\n",
              "    <tr>\n",
              "      <th>3</th>\n",
              "      <td>11</td>\n",
              "      <td>M</td>\n",
              "      <td>17</td>\n",
              "      <td>Нижегородская область</td>\n",
              "      <td>Tinkoff Pro</td>\n",
              "      <td>2422.0</td>\n",
              "      <td>66.21814</td>\n",
              "      <td>Топливо</td>\n",
              "      <td>2022-08-20</td>\n",
              "      <td>234.63</td>\n",
              "      <td>...</td>\n",
              "      <td>0</td>\n",
              "      <td>0</td>\n",
              "      <td>0</td>\n",
              "      <td>0</td>\n",
              "      <td>0</td>\n",
              "      <td>0</td>\n",
              "      <td>0</td>\n",
              "      <td>0</td>\n",
              "      <td>0</td>\n",
              "      <td>0</td>\n",
              "    </tr>\n",
              "    <tr>\n",
              "      <th>1</th>\n",
              "      <td>11</td>\n",
              "      <td>M</td>\n",
              "      <td>17</td>\n",
              "      <td>Нижегородская область</td>\n",
              "      <td>Tinkoff Premium</td>\n",
              "      <td>2422.0</td>\n",
              "      <td>66.21814</td>\n",
              "      <td>Топливо</td>\n",
              "      <td>2022-11-04</td>\n",
              "      <td>234.60</td>\n",
              "      <td>...</td>\n",
              "      <td>0</td>\n",
              "      <td>0</td>\n",
              "      <td>0</td>\n",
              "      <td>0</td>\n",
              "      <td>0</td>\n",
              "      <td>0</td>\n",
              "      <td>0</td>\n",
              "      <td>0</td>\n",
              "      <td>0</td>\n",
              "      <td>0</td>\n",
              "    </tr>\n",
              "    <tr>\n",
              "      <th>2</th>\n",
              "      <td>11</td>\n",
              "      <td>M</td>\n",
              "      <td>17</td>\n",
              "      <td>Нижегородская область</td>\n",
              "      <td>No bundle</td>\n",
              "      <td>2422.0</td>\n",
              "      <td>66.21814</td>\n",
              "      <td>Топливо</td>\n",
              "      <td>2022-11-21</td>\n",
              "      <td>234.63</td>\n",
              "      <td>...</td>\n",
              "      <td>0</td>\n",
              "      <td>0</td>\n",
              "      <td>0</td>\n",
              "      <td>0</td>\n",
              "      <td>0</td>\n",
              "      <td>0</td>\n",
              "      <td>0</td>\n",
              "      <td>0</td>\n",
              "      <td>0</td>\n",
              "      <td>0</td>\n",
              "    </tr>\n",
              "  </tbody>\n",
              "</table>\n",
              "<p>3 rows × 23 columns</p>\n",
              "</div>\n",
              "      <button class=\"colab-df-convert\" onclick=\"convertToInteractive('df-df75e3d4-db49-47fe-9bf2-33e1d5be7b0d')\"\n",
              "              title=\"Convert this dataframe to an interactive table.\"\n",
              "              style=\"display:none;\">\n",
              "        \n",
              "  <svg xmlns=\"http://www.w3.org/2000/svg\" height=\"24px\"viewBox=\"0 0 24 24\"\n",
              "       width=\"24px\">\n",
              "    <path d=\"M0 0h24v24H0V0z\" fill=\"none\"/>\n",
              "    <path d=\"M18.56 5.44l.94 2.06.94-2.06 2.06-.94-2.06-.94-.94-2.06-.94 2.06-2.06.94zm-11 1L8.5 8.5l.94-2.06 2.06-.94-2.06-.94L8.5 2.5l-.94 2.06-2.06.94zm10 10l.94 2.06.94-2.06 2.06-.94-2.06-.94-.94-2.06-.94 2.06-2.06.94z\"/><path d=\"M17.41 7.96l-1.37-1.37c-.4-.4-.92-.59-1.43-.59-.52 0-1.04.2-1.43.59L10.3 9.45l-7.72 7.72c-.78.78-.78 2.05 0 2.83L4 21.41c.39.39.9.59 1.41.59.51 0 1.02-.2 1.41-.59l7.78-7.78 2.81-2.81c.8-.78.8-2.07 0-2.86zM5.41 20L4 18.59l7.72-7.72 1.47 1.35L5.41 20z\"/>\n",
              "  </svg>\n",
              "      </button>\n",
              "      \n",
              "  <style>\n",
              "    .colab-df-container {\n",
              "      display:flex;\n",
              "      flex-wrap:wrap;\n",
              "      gap: 12px;\n",
              "    }\n",
              "\n",
              "    .colab-df-convert {\n",
              "      background-color: #E8F0FE;\n",
              "      border: none;\n",
              "      border-radius: 50%;\n",
              "      cursor: pointer;\n",
              "      display: none;\n",
              "      fill: #1967D2;\n",
              "      height: 32px;\n",
              "      padding: 0 0 0 0;\n",
              "      width: 32px;\n",
              "    }\n",
              "\n",
              "    .colab-df-convert:hover {\n",
              "      background-color: #E2EBFA;\n",
              "      box-shadow: 0px 1px 2px rgba(60, 64, 67, 0.3), 0px 1px 3px 1px rgba(60, 64, 67, 0.15);\n",
              "      fill: #174EA6;\n",
              "    }\n",
              "\n",
              "    [theme=dark] .colab-df-convert {\n",
              "      background-color: #3B4455;\n",
              "      fill: #D2E3FC;\n",
              "    }\n",
              "\n",
              "    [theme=dark] .colab-df-convert:hover {\n",
              "      background-color: #434B5C;\n",
              "      box-shadow: 0px 1px 3px 1px rgba(0, 0, 0, 0.15);\n",
              "      filter: drop-shadow(0px 1px 2px rgba(0, 0, 0, 0.3));\n",
              "      fill: #FFFFFF;\n",
              "    }\n",
              "  </style>\n",
              "\n",
              "      <script>\n",
              "        const buttonEl =\n",
              "          document.querySelector('#df-df75e3d4-db49-47fe-9bf2-33e1d5be7b0d button.colab-df-convert');\n",
              "        buttonEl.style.display =\n",
              "          google.colab.kernel.accessAllowed ? 'block' : 'none';\n",
              "\n",
              "        async function convertToInteractive(key) {\n",
              "          const element = document.querySelector('#df-df75e3d4-db49-47fe-9bf2-33e1d5be7b0d');\n",
              "          const dataTable =\n",
              "            await google.colab.kernel.invokeFunction('convertToInteractive',\n",
              "                                                     [key], {});\n",
              "          if (!dataTable) return;\n",
              "\n",
              "          const docLinkHtml = 'Like what you see? Visit the ' +\n",
              "            '<a target=\"_blank\" href=https://colab.research.google.com/notebooks/data_table.ipynb>data table notebook</a>'\n",
              "            + ' to learn more about interactive tables.';\n",
              "          element.innerHTML = '';\n",
              "          dataTable['output_type'] = 'display_data';\n",
              "          await google.colab.output.renderOutput(dataTable, element);\n",
              "          const docLink = document.createElement('div');\n",
              "          docLink.innerHTML = docLinkHtml;\n",
              "          element.appendChild(docLink);\n",
              "        }\n",
              "      </script>\n",
              "    </div>\n",
              "  </div>\n",
              "  "
            ]
          },
          "metadata": {},
          "execution_count": 115
        }
      ]
    },
    {
      "cell_type": "code",
      "source": [
        "RESULTS = {}\n",
        "for serv1 in range(5):\n",
        "  popular = koef[serv1][0]\n",
        "  for serv in services:\n",
        "    if serv == popular:\n",
        "      continue\n",
        "    use = 0\n",
        "    not_use = 0\n",
        "    for useri in dataUnique['user_id']:\n",
        "      user = Users[useri]\n",
        "      min_popular_index = user[user[popular] == 1].index.min()\n",
        "      max_need_index = user[user[serv] == 1].index.max()\n",
        "      if min_popular_index < max_need_index:\n",
        "        use += 1\n",
        "      else:\n",
        "        not_use += 1\n",
        "  RESULTS[popular].append({ serv: (use / (use + not_use)) })\n",
        "RESULTS    "
      ],
      "metadata": {
        "colab": {
          "base_uri": "https://localhost:8080/",
          "height": 217
        },
        "id": "vwYok_FSf6Ie",
        "outputId": "4bfe7c1c-4354-4733-b7ab-46f18457a435"
      },
      "execution_count": 117,
      "outputs": [
        {
          "output_type": "error",
          "ename": "KeyError",
          "evalue": "ignored",
          "traceback": [
            "\u001b[0;31m---------------------------------------------------------------------------\u001b[0m",
            "\u001b[0;31mKeyError\u001b[0m                                  Traceback (most recent call last)",
            "\u001b[0;32m<ipython-input-117-0c8035914abf>\u001b[0m in \u001b[0;36m<cell line: 2>\u001b[0;34m()\u001b[0m\n\u001b[1;32m     15\u001b[0m       \u001b[0;32melse\u001b[0m\u001b[0;34m:\u001b[0m\u001b[0;34m\u001b[0m\u001b[0;34m\u001b[0m\u001b[0m\n\u001b[1;32m     16\u001b[0m         \u001b[0mnot_use\u001b[0m \u001b[0;34m+=\u001b[0m \u001b[0;36m1\u001b[0m\u001b[0;34m\u001b[0m\u001b[0;34m\u001b[0m\u001b[0m\n\u001b[0;32m---> 17\u001b[0;31m   \u001b[0mRESULTS\u001b[0m\u001b[0;34m[\u001b[0m\u001b[0mpopular\u001b[0m\u001b[0;34m]\u001b[0m\u001b[0;34m.\u001b[0m\u001b[0mappend\u001b[0m\u001b[0;34m(\u001b[0m\u001b[0;34m{\u001b[0m \u001b[0mserv\u001b[0m\u001b[0;34m:\u001b[0m \u001b[0;34m(\u001b[0m\u001b[0muse\u001b[0m \u001b[0;34m/\u001b[0m \u001b[0;34m(\u001b[0m\u001b[0muse\u001b[0m \u001b[0;34m+\u001b[0m \u001b[0mnot_use\u001b[0m\u001b[0;34m)\u001b[0m\u001b[0;34m)\u001b[0m \u001b[0;34m}\u001b[0m\u001b[0;34m)\u001b[0m\u001b[0;34m\u001b[0m\u001b[0;34m\u001b[0m\u001b[0m\n\u001b[0m\u001b[1;32m     18\u001b[0m \u001b[0mRESULTS\u001b[0m\u001b[0;34m\u001b[0m\u001b[0;34m\u001b[0m\u001b[0m\n",
            "\u001b[0;31mKeyError\u001b[0m: 'cinema'"
          ]
        }
      ]
    },
    {
      "cell_type": "code",
      "source": [],
      "metadata": {
        "id": "n8dLVcnYqsAc"
      },
      "execution_count": null,
      "outputs": []
    }
  ]
}