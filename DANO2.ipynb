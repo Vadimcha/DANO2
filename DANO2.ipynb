{
  "nbformat": 4,
  "nbformat_minor": 0,
  "metadata": {
    "colab": {
      "provenance": [],
      "authorship_tag": "ABX9TyPU/kEg0+0dV/9kT17U3tXp",
      "include_colab_link": true
    },
    "kernelspec": {
      "name": "python3",
      "display_name": "Python 3"
    },
    "language_info": {
      "name": "python"
    }
  },
  "cells": [
    {
      "cell_type": "markdown",
      "metadata": {
        "id": "view-in-github",
        "colab_type": "text"
      },
      "source": [
        "<a href=\"https://colab.research.google.com/github/Vadimcha/DANO2/blob/main/DANO2.ipynb\" target=\"_parent\"><img src=\"https://colab.research.google.com/assets/colab-badge.svg\" alt=\"Open In Colab\"/></a>"
      ]
    },
    {
      "cell_type": "code",
      "execution_count": null,
      "metadata": {
        "id": "NOUTAndTN9nj"
      },
      "outputs": [],
      "source": [
        "import pandas as pd\n",
        "import numpy as np\n",
        "import matplotlib.pyplot as plt"
      ]
    },
    {
      "cell_type": "code",
      "source": [
        "data = pd.read_excel('./DB.xls') # База данных уже без выбросов\n",
        "data = data.drop('beauty', axis=1)\n",
        "data = data.drop('technology', axis=1)\n",
        "services = data.columns[10:]\n",
        "services"
      ],
      "metadata": {
        "colab": {
          "base_uri": "https://localhost:8080/"
        },
        "id": "BWSX9AtEOfo3",
        "outputId": "da4e658c-63ad-4ae8-a1b0-8aabfcccfa9f"
      },
      "execution_count": null,
      "outputs": [
        {
          "output_type": "execute_result",
          "data": {
            "text/plain": [
              "Index(['fuel', 'cinema', 'vkusvill', 'travel', 'restaurants', 'concerts',\n",
              "       'games', 'books', 'theater', 'sports', 'flowers'],\n",
              "      dtype='object')"
            ]
          },
          "metadata": {},
          "execution_count": 24
        }
      ]
    },
    {
      "cell_type": "code",
      "source": [
        "# Факторы объединения значений\n",
        "factors = {\n",
        "    'user_id': [],\n",
        "    'num_sessions': ['mean'],\n",
        "    'avg_session': ['mean'],\n",
        "    'price': ['sum'],\n",
        "    'fuel': ['sum'], \n",
        "    'cinema': ['sum'],\n",
        "    'vkusvill': ['sum'], \n",
        "    'travel': ['sum'], \n",
        "    'restaurants': ['sum'], \n",
        "    'concerts': ['sum'], \n",
        "    'games': ['sum'], \n",
        "    'books': ['sum'],\n",
        "    'theater': ['sum'], \n",
        "    'sports': ['sum'], \n",
        "    'flowers': ['sum'], \\\n",
        "}\n",
        "\n",
        "dataUnique = data.groupby('user_id').agg(factors).round(2)\n",
        "dataUnique = dataUnique.reset_index()\n",
        "\n",
        "dataUnique.columns = ['user_id', 'summSessions', 'avg_session', 'summPrice', 'fuel', 'cinema', 'vkusvill',\t\n",
        "                     'travel',\t'restaurants',\t'concerts',\t'games',\t'books',\t'theater',\t'sports',\t'flowers']\n",
        "dataUnique.head(100)"
      ],
      "metadata": {
        "id": "2LP0xd7PQlh6",
        "colab": {
          "base_uri": "https://localhost:8080/",
          "height": 423
        },
        "outputId": "7bf19914-2adc-47e1-dca9-14d733cb26ef"
      },
      "execution_count": null,
      "outputs": [
        {
          "output_type": "execute_result",
          "data": {
            "text/plain": [
              "    user_id  summSessions  avg_session  summPrice  fuel  cinema  vkusvill  \\\n",
              "0         9        1421.0        77.89     159.59     0       1         0   \n",
              "1        11        2422.0        66.22     703.86     3       0         0   \n",
              "2        25         770.0        57.98      79.56     0       0         0   \n",
              "3        31         763.0        95.56     361.43     0       3         0   \n",
              "4        42         485.0        71.45     703.98     3       0         0   \n",
              "..      ...           ...          ...        ...   ...     ...       ...   \n",
              "95     1001         845.0        76.01    2296.52     0       0         0   \n",
              "96     1002        1226.0       104.89    6738.28    30       1         0   \n",
              "97     1005        3002.0        83.97     187.76     0       1         0   \n",
              "98     1029           NaN          NaN     211.23     0       1         0   \n",
              "99     1038         716.0        55.78     843.27     0       0         0   \n",
              "\n",
              "    travel  restaurants  concerts  games  books  theater  sports  flowers  \n",
              "0        0            0         0      0      0        0       0        0  \n",
              "1        0            0         0      0      0        0       0        0  \n",
              "2        0            0         0      0      1        0       0        0  \n",
              "3        0            0         0      0      0        0       0        0  \n",
              "4        0            0         0      0      0        0       0        0  \n",
              "..     ...          ...       ...    ...    ...      ...     ...      ...  \n",
              "95       1            0         0      0      0        0       0        0  \n",
              "96       0            0         0      0      0        0       0        0  \n",
              "97       0            0         0      0      0        0       0        0  \n",
              "98       0            0         0      0      0        0       0        0  \n",
              "99       1            0         0      0      0        0       0        0  \n",
              "\n",
              "[100 rows x 15 columns]"
            ],
            "text/html": [
              "\n",
              "  <div id=\"df-a74b1405-17ec-4867-a3f9-6eacfbce01d7\">\n",
              "    <div class=\"colab-df-container\">\n",
              "      <div>\n",
              "<style scoped>\n",
              "    .dataframe tbody tr th:only-of-type {\n",
              "        vertical-align: middle;\n",
              "    }\n",
              "\n",
              "    .dataframe tbody tr th {\n",
              "        vertical-align: top;\n",
              "    }\n",
              "\n",
              "    .dataframe thead th {\n",
              "        text-align: right;\n",
              "    }\n",
              "</style>\n",
              "<table border=\"1\" class=\"dataframe\">\n",
              "  <thead>\n",
              "    <tr style=\"text-align: right;\">\n",
              "      <th></th>\n",
              "      <th>user_id</th>\n",
              "      <th>summSessions</th>\n",
              "      <th>avg_session</th>\n",
              "      <th>summPrice</th>\n",
              "      <th>fuel</th>\n",
              "      <th>cinema</th>\n",
              "      <th>vkusvill</th>\n",
              "      <th>travel</th>\n",
              "      <th>restaurants</th>\n",
              "      <th>concerts</th>\n",
              "      <th>games</th>\n",
              "      <th>books</th>\n",
              "      <th>theater</th>\n",
              "      <th>sports</th>\n",
              "      <th>flowers</th>\n",
              "    </tr>\n",
              "  </thead>\n",
              "  <tbody>\n",
              "    <tr>\n",
              "      <th>0</th>\n",
              "      <td>9</td>\n",
              "      <td>1421.0</td>\n",
              "      <td>77.89</td>\n",
              "      <td>159.59</td>\n",
              "      <td>0</td>\n",
              "      <td>1</td>\n",
              "      <td>0</td>\n",
              "      <td>0</td>\n",
              "      <td>0</td>\n",
              "      <td>0</td>\n",
              "      <td>0</td>\n",
              "      <td>0</td>\n",
              "      <td>0</td>\n",
              "      <td>0</td>\n",
              "      <td>0</td>\n",
              "    </tr>\n",
              "    <tr>\n",
              "      <th>1</th>\n",
              "      <td>11</td>\n",
              "      <td>2422.0</td>\n",
              "      <td>66.22</td>\n",
              "      <td>703.86</td>\n",
              "      <td>3</td>\n",
              "      <td>0</td>\n",
              "      <td>0</td>\n",
              "      <td>0</td>\n",
              "      <td>0</td>\n",
              "      <td>0</td>\n",
              "      <td>0</td>\n",
              "      <td>0</td>\n",
              "      <td>0</td>\n",
              "      <td>0</td>\n",
              "      <td>0</td>\n",
              "    </tr>\n",
              "    <tr>\n",
              "      <th>2</th>\n",
              "      <td>25</td>\n",
              "      <td>770.0</td>\n",
              "      <td>57.98</td>\n",
              "      <td>79.56</td>\n",
              "      <td>0</td>\n",
              "      <td>0</td>\n",
              "      <td>0</td>\n",
              "      <td>0</td>\n",
              "      <td>0</td>\n",
              "      <td>0</td>\n",
              "      <td>0</td>\n",
              "      <td>1</td>\n",
              "      <td>0</td>\n",
              "      <td>0</td>\n",
              "      <td>0</td>\n",
              "    </tr>\n",
              "    <tr>\n",
              "      <th>3</th>\n",
              "      <td>31</td>\n",
              "      <td>763.0</td>\n",
              "      <td>95.56</td>\n",
              "      <td>361.43</td>\n",
              "      <td>0</td>\n",
              "      <td>3</td>\n",
              "      <td>0</td>\n",
              "      <td>0</td>\n",
              "      <td>0</td>\n",
              "      <td>0</td>\n",
              "      <td>0</td>\n",
              "      <td>0</td>\n",
              "      <td>0</td>\n",
              "      <td>0</td>\n",
              "      <td>0</td>\n",
              "    </tr>\n",
              "    <tr>\n",
              "      <th>4</th>\n",
              "      <td>42</td>\n",
              "      <td>485.0</td>\n",
              "      <td>71.45</td>\n",
              "      <td>703.98</td>\n",
              "      <td>3</td>\n",
              "      <td>0</td>\n",
              "      <td>0</td>\n",
              "      <td>0</td>\n",
              "      <td>0</td>\n",
              "      <td>0</td>\n",
              "      <td>0</td>\n",
              "      <td>0</td>\n",
              "      <td>0</td>\n",
              "      <td>0</td>\n",
              "      <td>0</td>\n",
              "    </tr>\n",
              "    <tr>\n",
              "      <th>...</th>\n",
              "      <td>...</td>\n",
              "      <td>...</td>\n",
              "      <td>...</td>\n",
              "      <td>...</td>\n",
              "      <td>...</td>\n",
              "      <td>...</td>\n",
              "      <td>...</td>\n",
              "      <td>...</td>\n",
              "      <td>...</td>\n",
              "      <td>...</td>\n",
              "      <td>...</td>\n",
              "      <td>...</td>\n",
              "      <td>...</td>\n",
              "      <td>...</td>\n",
              "      <td>...</td>\n",
              "    </tr>\n",
              "    <tr>\n",
              "      <th>95</th>\n",
              "      <td>1001</td>\n",
              "      <td>845.0</td>\n",
              "      <td>76.01</td>\n",
              "      <td>2296.52</td>\n",
              "      <td>0</td>\n",
              "      <td>0</td>\n",
              "      <td>0</td>\n",
              "      <td>1</td>\n",
              "      <td>0</td>\n",
              "      <td>0</td>\n",
              "      <td>0</td>\n",
              "      <td>0</td>\n",
              "      <td>0</td>\n",
              "      <td>0</td>\n",
              "      <td>0</td>\n",
              "    </tr>\n",
              "    <tr>\n",
              "      <th>96</th>\n",
              "      <td>1002</td>\n",
              "      <td>1226.0</td>\n",
              "      <td>104.89</td>\n",
              "      <td>6738.28</td>\n",
              "      <td>30</td>\n",
              "      <td>1</td>\n",
              "      <td>0</td>\n",
              "      <td>0</td>\n",
              "      <td>0</td>\n",
              "      <td>0</td>\n",
              "      <td>0</td>\n",
              "      <td>0</td>\n",
              "      <td>0</td>\n",
              "      <td>0</td>\n",
              "      <td>0</td>\n",
              "    </tr>\n",
              "    <tr>\n",
              "      <th>97</th>\n",
              "      <td>1005</td>\n",
              "      <td>3002.0</td>\n",
              "      <td>83.97</td>\n",
              "      <td>187.76</td>\n",
              "      <td>0</td>\n",
              "      <td>1</td>\n",
              "      <td>0</td>\n",
              "      <td>0</td>\n",
              "      <td>0</td>\n",
              "      <td>0</td>\n",
              "      <td>0</td>\n",
              "      <td>0</td>\n",
              "      <td>0</td>\n",
              "      <td>0</td>\n",
              "      <td>0</td>\n",
              "    </tr>\n",
              "    <tr>\n",
              "      <th>98</th>\n",
              "      <td>1029</td>\n",
              "      <td>NaN</td>\n",
              "      <td>NaN</td>\n",
              "      <td>211.23</td>\n",
              "      <td>0</td>\n",
              "      <td>1</td>\n",
              "      <td>0</td>\n",
              "      <td>0</td>\n",
              "      <td>0</td>\n",
              "      <td>0</td>\n",
              "      <td>0</td>\n",
              "      <td>0</td>\n",
              "      <td>0</td>\n",
              "      <td>0</td>\n",
              "      <td>0</td>\n",
              "    </tr>\n",
              "    <tr>\n",
              "      <th>99</th>\n",
              "      <td>1038</td>\n",
              "      <td>716.0</td>\n",
              "      <td>55.78</td>\n",
              "      <td>843.27</td>\n",
              "      <td>0</td>\n",
              "      <td>0</td>\n",
              "      <td>0</td>\n",
              "      <td>1</td>\n",
              "      <td>0</td>\n",
              "      <td>0</td>\n",
              "      <td>0</td>\n",
              "      <td>0</td>\n",
              "      <td>0</td>\n",
              "      <td>0</td>\n",
              "      <td>0</td>\n",
              "    </tr>\n",
              "  </tbody>\n",
              "</table>\n",
              "<p>100 rows × 15 columns</p>\n",
              "</div>\n",
              "      <button class=\"colab-df-convert\" onclick=\"convertToInteractive('df-a74b1405-17ec-4867-a3f9-6eacfbce01d7')\"\n",
              "              title=\"Convert this dataframe to an interactive table.\"\n",
              "              style=\"display:none;\">\n",
              "        \n",
              "  <svg xmlns=\"http://www.w3.org/2000/svg\" height=\"24px\"viewBox=\"0 0 24 24\"\n",
              "       width=\"24px\">\n",
              "    <path d=\"M0 0h24v24H0V0z\" fill=\"none\"/>\n",
              "    <path d=\"M18.56 5.44l.94 2.06.94-2.06 2.06-.94-2.06-.94-.94-2.06-.94 2.06-2.06.94zm-11 1L8.5 8.5l.94-2.06 2.06-.94-2.06-.94L8.5 2.5l-.94 2.06-2.06.94zm10 10l.94 2.06.94-2.06 2.06-.94-2.06-.94-.94-2.06-.94 2.06-2.06.94z\"/><path d=\"M17.41 7.96l-1.37-1.37c-.4-.4-.92-.59-1.43-.59-.52 0-1.04.2-1.43.59L10.3 9.45l-7.72 7.72c-.78.78-.78 2.05 0 2.83L4 21.41c.39.39.9.59 1.41.59.51 0 1.02-.2 1.41-.59l7.78-7.78 2.81-2.81c.8-.78.8-2.07 0-2.86zM5.41 20L4 18.59l7.72-7.72 1.47 1.35L5.41 20z\"/>\n",
              "  </svg>\n",
              "      </button>\n",
              "      \n",
              "  <style>\n",
              "    .colab-df-container {\n",
              "      display:flex;\n",
              "      flex-wrap:wrap;\n",
              "      gap: 12px;\n",
              "    }\n",
              "\n",
              "    .colab-df-convert {\n",
              "      background-color: #E8F0FE;\n",
              "      border: none;\n",
              "      border-radius: 50%;\n",
              "      cursor: pointer;\n",
              "      display: none;\n",
              "      fill: #1967D2;\n",
              "      height: 32px;\n",
              "      padding: 0 0 0 0;\n",
              "      width: 32px;\n",
              "    }\n",
              "\n",
              "    .colab-df-convert:hover {\n",
              "      background-color: #E2EBFA;\n",
              "      box-shadow: 0px 1px 2px rgba(60, 64, 67, 0.3), 0px 1px 3px 1px rgba(60, 64, 67, 0.15);\n",
              "      fill: #174EA6;\n",
              "    }\n",
              "\n",
              "    [theme=dark] .colab-df-convert {\n",
              "      background-color: #3B4455;\n",
              "      fill: #D2E3FC;\n",
              "    }\n",
              "\n",
              "    [theme=dark] .colab-df-convert:hover {\n",
              "      background-color: #434B5C;\n",
              "      box-shadow: 0px 1px 3px 1px rgba(0, 0, 0, 0.15);\n",
              "      filter: drop-shadow(0px 1px 2px rgba(0, 0, 0, 0.3));\n",
              "      fill: #FFFFFF;\n",
              "    }\n",
              "  </style>\n",
              "\n",
              "      <script>\n",
              "        const buttonEl =\n",
              "          document.querySelector('#df-a74b1405-17ec-4867-a3f9-6eacfbce01d7 button.colab-df-convert');\n",
              "        buttonEl.style.display =\n",
              "          google.colab.kernel.accessAllowed ? 'block' : 'none';\n",
              "\n",
              "        async function convertToInteractive(key) {\n",
              "          const element = document.querySelector('#df-a74b1405-17ec-4867-a3f9-6eacfbce01d7');\n",
              "          const dataTable =\n",
              "            await google.colab.kernel.invokeFunction('convertToInteractive',\n",
              "                                                     [key], {});\n",
              "          if (!dataTable) return;\n",
              "\n",
              "          const docLinkHtml = 'Like what you see? Visit the ' +\n",
              "            '<a target=\"_blank\" href=https://colab.research.google.com/notebooks/data_table.ipynb>data table notebook</a>'\n",
              "            + ' to learn more about interactive tables.';\n",
              "          element.innerHTML = '';\n",
              "          dataTable['output_type'] = 'display_data';\n",
              "          await google.colab.output.renderOutput(dataTable, element);\n",
              "          const docLink = document.createElement('div');\n",
              "          docLink.innerHTML = docLinkHtml;\n",
              "          element.appendChild(docLink);\n",
              "        }\n",
              "      </script>\n",
              "    </div>\n",
              "  </div>\n",
              "  "
            ]
          },
          "metadata": {},
          "execution_count": 46
        }
      ]
    },
    {
      "cell_type": "code",
      "source": [
        "print(dataUnique.shape[0])\n",
        "print(len(dataUnique[dataUnique['fuel'] > 1]) + len(dataUnique[dataUnique['fuel'] < 2]))"
      ],
      "metadata": {
        "colab": {
          "base_uri": "https://localhost:8080/"
        },
        "id": "enfJ6QzmZU9u",
        "outputId": "546ac62e-f2f9-40ea-c4ce-5b755bae53e8"
      },
      "execution_count": null,
      "outputs": [
        {
          "output_type": "stream",
          "name": "stdout",
          "text": [
            "9333\n",
            "9333\n"
          ]
        }
      ]
    },
    {
      "cell_type": "code",
      "source": [
        "print(dataUnique[dataUnique[\"cinema\"] >= 2]['avg_session'])\n",
        "print(dataUnique[dataUnique[\"cinema\"] >= 2]['summSessions'])\n"
      ],
      "metadata": {
        "colab": {
          "base_uri": "https://localhost:8080/"
        },
        "id": "ZtNXvRHRRD06",
        "outputId": "2556f3c4-2a1e-414a-a95c-b793ddc55f9e"
      },
      "execution_count": null,
      "outputs": [
        {
          "output_type": "stream",
          "name": "stdout",
          "text": [
            "3        95.56\n",
            "8        69.55\n",
            "9        82.51\n",
            "14         NaN\n",
            "20      115.99\n",
            "         ...  \n",
            "9295     65.26\n",
            "9301       NaN\n",
            "9304     68.59\n",
            "9310     37.16\n",
            "9314     84.70\n",
            "Name: avg_session, Length: 2106, dtype: float64\n",
            "3        2289.0\n",
            "8        1734.0\n",
            "9        2643.0\n",
            "14          0.0\n",
            "20      26072.0\n",
            "         ...   \n",
            "9295     2205.0\n",
            "9301        0.0\n",
            "9304     2378.0\n",
            "9310     5560.0\n",
            "9314     7260.0\n",
            "Name: summSessions, Length: 2106, dtype: float64\n"
          ]
        }
      ]
    },
    {
      "cell_type": "code",
      "source": [
        "import statistics\n",
        "\n",
        "s = ['cinema', 'fuel', 'travel']\n",
        "\n",
        "for i in s:\n",
        "  cinemaData = dataUnique[dataUnique[i] == 1]\n",
        "\n",
        "  # print(dataUnique[dataUnique[i] >= 2]['avg_session'])\n",
        "  # print(dataUnique[dataUnique[i] >= 2]['summSessions'])\n",
        "\n",
        "  # print(type(cinemaData[\"avg_session\"]))\n",
        "  # print(type(cinemaData[\"summSessions\"]))\n",
        "\n",
        "  averageCinemaSessionTime = statistics.mean(cinemaData[\"avg_session\"].dropna())\n",
        "  averageCinemaSessionKol = statistics.mean(cinemaData[\"summSessions\"].dropna())\n",
        "  print(f\"Average of Session {i} Time: {averageCinemaSessionTime}, Average Kol of Sessions {i}:  {averageCinemaSessionKol}\")\n",
        "\n",
        "\n"
      ],
      "metadata": {
        "colab": {
          "base_uri": "https://localhost:8080/"
        },
        "id": "ap-sGg0NHOoD",
        "outputId": "3d087ffd-ceab-4fd4-88b0-6057791a9890"
      },
      "execution_count": null,
      "outputs": [
        {
          "output_type": "stream",
          "name": "stdout",
          "text": [
            "Average of Session cinema Time: 89.3530662358643, Average Kol of Sessions cinema:  547.903069466882\n",
            "Average of Session fuel Time: 90.58753125, Average Kol of Sessions fuel:  717.528125\n",
            "Average of Session travel Time: 83.04963, Average Kol of Sessions travel:  727.124\n"
          ]
        }
      ]
    },
    {
      "cell_type": "code",
      "source": [
        "# Подсчет коэффициэнта возвращаемости по формуле X/(X+Y), где X - кол-во людей кто купил категорию 2 и более раз, Y - менее соответственно\n",
        "\n",
        "# m['X'] = [Y, Z]  значит, что в категории X, Y человек, которые покупали более одного раза, и Z человек менее\n",
        "m = {}\n",
        "koef = {}\n",
        "for serv in services:\n",
        "  m[serv] = [len(dataUnique[dataUnique[serv] >= 2]), len(dataUnique[dataUnique[serv] == 1])]\n",
        "  koef[serv] = m[serv][0] / (m[serv][0] + m[serv][1])\n",
        "\n",
        "koef1 = dict(sorted(koef.items(), key=lambda item: item[1]))\n",
        "koef = list(sorted(koef.items(), key=lambda item: item[1]))[::-1]\n",
        "\n",
        "\n",
        "labels = list(koef1.keys())\n",
        "values = list(koef1.values())\n",
        "\n",
        "values = [float(value) for value in values]\n",
        "# Создание столбчатой диаграммы\n",
        "plt.bar(labels, values)\n",
        "\n",
        "# Настройка осей и заголовка\n",
        "plt.xlabel('Категории')\n",
        "plt.ylabel('Значения')\n",
        "plt.title('Столбчатая диаграмма')\n",
        "\n",
        "# Отображение диаграммы\n",
        "plt.xticks(rotation='vertical')\n",
        "\n",
        "plt.show()\n",
        "print(koef)"
      ],
      "metadata": {
        "colab": {
          "base_uri": "https://localhost:8080/",
          "height": 576
        },
        "id": "VU-zLJDhSlii",
        "outputId": "727f8ac5-e61e-411f-ea34-4ea7f6690c5b"
      },
      "execution_count": null,
      "outputs": [
        {
          "output_type": "display_data",
          "data": {
            "text/plain": [
              "<Figure size 640x480 with 1 Axes>"
            ],
            "image/png": "[encoded data removed]"
          },
          "metadata": {}
        },
        {
          "output_type": "stream",
          "name": "stdout",
          "text": [
            "[('fuel', 0.5789473684210527), ('travel', 0.39222829386763813), ('cinema', 0.38557305016477483), ('vkusvill', 0.31446540880503143), ('games', 0.26048565121412803), ('sports', 0.23863636363636365), ('concerts', 0.18508997429305912), ('theater', 0.1836734693877551), ('flowers', 0.1702127659574468), ('restaurants', 0.1702127659574468), ('books', 0.11739130434782609), ('technology', 0.0)]\n"
          ]
        }
      ]
    },
    {
      "cell_type": "code",
      "source": [
        "Users = {}  # по ключу user_id доступны все записи отсортированные по датам\n",
        "print(type(Users))\n",
        "\n",
        "for user in dataUnique['user_id']:\n",
        "    Users[user] = data[data['user_id'] == user].copy()  # Создание копии DataFrame\n",
        "    Users[user]['order_date'] = pd.to_datetime(Users[user]['order_date'])  # Преобразование столбца 'order_date' в формат даты\n",
        "    Users[user].sort_values(by='order_date', inplace=True)"
      ],
      "metadata": {
        "id": "6wcixGVrXD66",
        "colab": {
          "base_uri": "https://localhost:8080/"
        },
        "outputId": "2f05e52b-f8f3-49c9-f557-c7e800fb1dd8"
      },
      "execution_count": null,
      "outputs": [
        {
          "output_type": "stream",
          "name": "stdout",
          "text": [
            "<class 'dict'>\n"
          ]
        }
      ]
    },
    {
      "cell_type": "code",
      "source": [
        "type(Users)"
      ],
      "metadata": {
        "colab": {
          "base_uri": "https://localhost:8080/"
        },
        "id": "4Sw2VO6nS7UT",
        "outputId": "93ade53c-dbfc-4e4e-fe8e-b1f4bf063c8c"
      },
      "execution_count": null,
      "outputs": [
        {
          "output_type": "execute_result",
          "data": {
            "text/plain": [
              "dict"
            ]
          },
          "metadata": {},
          "execution_count": 22
        }
      ]
    },
    {
      "cell_type": "code",
      "source": [
        "Users[674]\n"
      ],
      "metadata": {
        "colab": {
          "base_uri": "https://localhost:8080/",
          "height": 167
        },
        "id": "48xDj0v3n-mR",
        "outputId": "b9d18055-0463-4147-b122-8e9d6921ecc3"
      },
      "execution_count": null,
      "outputs": [
        {
          "output_type": "execute_result",
          "data": {
            "text/plain": [
              "     user_id sex  age  region     bundle  num_sessions  avg_session   service  \\\n",
              "136      674   F   17  Москва  No bundle         339.0    74.836254  Вкусвилл   \n",
              "137      674   F   17  Москва  No bundle         339.0    74.836254  Вкусвилл   \n",
              "\n",
              "    order_date  price  ...  vkusvill  travel  restaurants  concerts  games  \\\n",
              "136 2022-10-03  43.89  ...         1       0            0         0      0   \n",
              "137 2022-12-20  49.29  ...         1       0            0         0      0   \n",
              "\n",
              "     books  theater  sports  flowers  technology  \n",
              "136      0        0       0        0           0  \n",
              "137      0        0       0        0           0  \n",
              "\n",
              "[2 rows x 22 columns]"
            ],
            "text/html": [
              "\n",
              "  <div id=\"df-11bb2e85-b0a4-42e3-ad22-3ae2098c32a6\">\n",
              "    <div class=\"colab-df-container\">\n",
              "      <div>\n",
              "<style scoped>\n",
              "    .dataframe tbody tr th:only-of-type {\n",
              "        vertical-align: middle;\n",
              "    }\n",
              "\n",
              "    .dataframe tbody tr th {\n",
              "        vertical-align: top;\n",
              "    }\n",
              "\n",
              "    .dataframe thead th {\n",
              "        text-align: right;\n",
              "    }\n",
              "</style>\n",
              "<table border=\"1\" class=\"dataframe\">\n",
              "  <thead>\n",
              "    <tr style=\"text-align: right;\">\n",
              "      <th></th>\n",
              "      <th>user_id</th>\n",
              "      <th>sex</th>\n",
              "      <th>age</th>\n",
              "      <th>region</th>\n",
              "      <th>bundle</th>\n",
              "      <th>num_sessions</th>\n",
              "      <th>avg_session</th>\n",
              "      <th>service</th>\n",
              "      <th>order_date</th>\n",
              "      <th>price</th>\n",
              "      <th>...</th>\n",
              "      <th>vkusvill</th>\n",
              "      <th>travel</th>\n",
              "      <th>restaurants</th>\n",
              "      <th>concerts</th>\n",
              "      <th>games</th>\n",
              "      <th>books</th>\n",
              "      <th>theater</th>\n",
              "      <th>sports</th>\n",
              "      <th>flowers</th>\n",
              "      <th>technology</th>\n",
              "    </tr>\n",
              "  </thead>\n",
              "  <tbody>\n",
              "    <tr>\n",
              "      <th>136</th>\n",
              "      <td>674</td>\n",
              "      <td>F</td>\n",
              "      <td>17</td>\n",
              "      <td>Москва</td>\n",
              "      <td>No bundle</td>\n",
              "      <td>339.0</td>\n",
              "      <td>74.836254</td>\n",
              "      <td>Вкусвилл</td>\n",
              "      <td>2022-10-03</td>\n",
              "      <td>43.89</td>\n",
              "      <td>...</td>\n",
              "      <td>1</td>\n",
              "      <td>0</td>\n",
              "      <td>0</td>\n",
              "      <td>0</td>\n",
              "      <td>0</td>\n",
              "      <td>0</td>\n",
              "      <td>0</td>\n",
              "      <td>0</td>\n",
              "      <td>0</td>\n",
              "      <td>0</td>\n",
              "    </tr>\n",
              "    <tr>\n",
              "      <th>137</th>\n",
              "      <td>674</td>\n",
              "      <td>F</td>\n",
              "      <td>17</td>\n",
              "      <td>Москва</td>\n",
              "      <td>No bundle</td>\n",
              "      <td>339.0</td>\n",
              "      <td>74.836254</td>\n",
              "      <td>Вкусвилл</td>\n",
              "      <td>2022-12-20</td>\n",
              "      <td>49.29</td>\n",
              "      <td>...</td>\n",
              "      <td>1</td>\n",
              "      <td>0</td>\n",
              "      <td>0</td>\n",
              "      <td>0</td>\n",
              "      <td>0</td>\n",
              "      <td>0</td>\n",
              "      <td>0</td>\n",
              "      <td>0</td>\n",
              "      <td>0</td>\n",
              "      <td>0</td>\n",
              "    </tr>\n",
              "  </tbody>\n",
              "</table>\n",
              "<p>2 rows × 22 columns</p>\n",
              "</div>\n",
              "      <button class=\"colab-df-convert\" onclick=\"convertToInteractive('df-11bb2e85-b0a4-42e3-ad22-3ae2098c32a6')\"\n",
              "              title=\"Convert this dataframe to an interactive table.\"\n",
              "              style=\"display:none;\">\n",
              "        \n",
              "  <svg xmlns=\"http://www.w3.org/2000/svg\" height=\"24px\"viewBox=\"0 0 24 24\"\n",
              "       width=\"24px\">\n",
              "    <path d=\"M0 0h24v24H0V0z\" fill=\"none\"/>\n",
              "    <path d=\"M18.56 5.44l.94 2.06.94-2.06 2.06-.94-2.06-.94-.94-2.06-.94 2.06-2.06.94zm-11 1L8.5 8.5l.94-2.06 2.06-.94-2.06-.94L8.5 2.5l-.94 2.06-2.06.94zm10 10l.94 2.06.94-2.06 2.06-.94-2.06-.94-.94-2.06-.94 2.06-2.06.94z\"/><path d=\"M17.41 7.96l-1.37-1.37c-.4-.4-.92-.59-1.43-.59-.52 0-1.04.2-1.43.59L10.3 9.45l-7.72 7.72c-.78.78-.78 2.05 0 2.83L4 21.41c.39.39.9.59 1.41.59.51 0 1.02-.2 1.41-.59l7.78-7.78 2.81-2.81c.8-.78.8-2.07 0-2.86zM5.41 20L4 18.59l7.72-7.72 1.47 1.35L5.41 20z\"/>\n",
              "  </svg>\n",
              "      </button>\n",
              "      \n",
              "  <style>\n",
              "    .colab-df-container {\n",
              "      display:flex;\n",
              "      flex-wrap:wrap;\n",
              "      gap: 12px;\n",
              "    }\n",
              "\n",
              "    .colab-df-convert {\n",
              "      background-color: #E8F0FE;\n",
              "      border: none;\n",
              "      border-radius: 50%;\n",
              "      cursor: pointer;\n",
              "      display: none;\n",
              "      fill: #1967D2;\n",
              "      height: 32px;\n",
              "      padding: 0 0 0 0;\n",
              "      width: 32px;\n",
              "    }\n",
              "\n",
              "    .colab-df-convert:hover {\n",
              "      background-color: #E2EBFA;\n",
              "      box-shadow: 0px 1px 2px rgba(60, 64, 67, 0.3), 0px 1px 3px 1px rgba(60, 64, 67, 0.15);\n",
              "      fill: #174EA6;\n",
              "    }\n",
              "\n",
              "    [theme=dark] .colab-df-convert {\n",
              "      background-color: #3B4455;\n",
              "      fill: #D2E3FC;\n",
              "    }\n",
              "\n",
              "    [theme=dark] .colab-df-convert:hover {\n",
              "      background-color: #434B5C;\n",
              "      box-shadow: 0px 1px 3px 1px rgba(0, 0, 0, 0.15);\n",
              "      filter: drop-shadow(0px 1px 2px rgba(0, 0, 0, 0.3));\n",
              "      fill: #FFFFFF;\n",
              "    }\n",
              "  </style>\n",
              "\n",
              "      <script>\n",
              "        const buttonEl =\n",
              "          document.querySelector('#df-11bb2e85-b0a4-42e3-ad22-3ae2098c32a6 button.colab-df-convert');\n",
              "        buttonEl.style.display =\n",
              "          google.colab.kernel.accessAllowed ? 'block' : 'none';\n",
              "\n",
              "        async function convertToInteractive(key) {\n",
              "          const element = document.querySelector('#df-11bb2e85-b0a4-42e3-ad22-3ae2098c32a6');\n",
              "          const dataTable =\n",
              "            await google.colab.kernel.invokeFunction('convertToInteractive',\n",
              "                                                     [key], {});\n",
              "          if (!dataTable) return;\n",
              "\n",
              "          const docLinkHtml = 'Like what you see? Visit the ' +\n",
              "            '<a target=\"_blank\" href=https://colab.research.google.com/notebooks/data_table.ipynb>data table notebook</a>'\n",
              "            + ' to learn more about interactive tables.';\n",
              "          element.innerHTML = '';\n",
              "          dataTable['output_type'] = 'display_data';\n",
              "          await google.colab.output.renderOutput(dataTable, element);\n",
              "          const docLink = document.createElement('div');\n",
              "          docLink.innerHTML = docLinkHtml;\n",
              "          element.appendChild(docLink);\n",
              "        }\n",
              "      </script>\n",
              "    </div>\n",
              "  </div>\n",
              "  "
            ]
          },
          "metadata": {},
          "execution_count": 31
        },
        {
          "output_type": "stream",
          "name": "stdout",
          "text": [
            "Warning: Total number of columns (22) exceeds max_columns (20) limiting to first (20) columns.\n"
          ]
        }
      ]
    },
    {
      "cell_type": "code",
      "source": [
        "Users[134]"
      ],
      "metadata": {
        "id": "y29fzL6g_aM0"
      },
      "execution_count": null,
      "outputs": []
    },
    {
      "cell_type": "code",
      "source": [
        "import math\n",
        "\n",
        "RESULTS = {}\n",
        "for serv1 in range(3):\n",
        "  popular = koef[serv1][0]\n",
        "  for serv in services:\n",
        "    if serv == popular:\n",
        "      continue\n",
        "    use = 0\n",
        "    not_use = len(dataUnique[dataUnique[popular] >= 1])\n",
        "    for useri in dataUnique['user_id']:\n",
        "      user = Users[useri]\n",
        "      min_popular_index = user[user[popular] == 1].index.min()\n",
        "      max_need_index = user[user[serv] == 1].index.min()\n",
        "      if math.isnan(min_popular_index) or math.isnan(max_need_index):\n",
        "        continue\n",
        "      # print(f'RESULT - {user[\"user_id\"]}: {popular} = {min_popular_index}, {serv} = {max_need_index}')\n",
        "      if min_popular_index < max_need_index:\n",
        "        use += 1\n",
        "      # else:\n",
        "      #   # print(f'RESULT - {min_popular_index}: {type(min_popular_index)}, {max_need_index}: {type(max_need_index)}')\n",
        "      #   not_use += 1\n",
        "  if use + not_use == 0:\n",
        "    continue\n",
        "  if popular in RESULTS:\n",
        "    RESULTS[popular].append({ serv: (use / (use + not_use)) })\n",
        "    print(\"AAAAA\")\n",
        "  else:\n",
        "    RESULTS[popular] = [{ serv: (use / (use + not_use)) }]\n",
        "    print(\"RRRR\")\n",
        "RESULTS"
      ],
      "metadata": {
        "colab": {
          "base_uri": "https://localhost:8080/",
          "height": 432
        },
        "id": "vwYok_FSf6Ie",
        "outputId": "fc559a5d-cb03-4905-8dce-b5e48bd4a98e"
      },
      "execution_count": null,
      "outputs": [
        {
          "output_type": "stream",
          "name": "stdout",
          "text": [
            "RRRR\n",
            "RRRR\n"
          ]
        },
        {
          "output_type": "error",
          "ename": "KeyboardInterrupt",
          "evalue": "ignored",
          "traceback": [
            "\u001b[0;31m---------------------------------------------------------------------------\u001b[0m",
            "\u001b[0;31mKeyboardInterrupt\u001b[0m                         Traceback (most recent call last)",
            "\u001b[0;32m<ipython-input-44-f7b9b73de85a>\u001b[0m in \u001b[0;36m<cell line: 4>\u001b[0;34m()\u001b[0m\n\u001b[1;32m     11\u001b[0m     \u001b[0;32mfor\u001b[0m \u001b[0museri\u001b[0m \u001b[0;32min\u001b[0m \u001b[0mdataUnique\u001b[0m\u001b[0;34m[\u001b[0m\u001b[0;34m'user_id'\u001b[0m\u001b[0;34m]\u001b[0m\u001b[0;34m:\u001b[0m\u001b[0;34m\u001b[0m\u001b[0;34m\u001b[0m\u001b[0m\n\u001b[1;32m     12\u001b[0m       \u001b[0muser\u001b[0m \u001b[0;34m=\u001b[0m \u001b[0mUsers\u001b[0m\u001b[0;34m[\u001b[0m\u001b[0museri\u001b[0m\u001b[0;34m]\u001b[0m\u001b[0;34m\u001b[0m\u001b[0;34m\u001b[0m\u001b[0m\n\u001b[0;32m---> 13\u001b[0;31m       \u001b[0mmin_popular_index\u001b[0m \u001b[0;34m=\u001b[0m \u001b[0muser\u001b[0m\u001b[0;34m[\u001b[0m\u001b[0muser\u001b[0m\u001b[0;34m[\u001b[0m\u001b[0mpopular\u001b[0m\u001b[0;34m]\u001b[0m \u001b[0;34m==\u001b[0m \u001b[0;36m1\u001b[0m\u001b[0;34m]\u001b[0m\u001b[0;34m.\u001b[0m\u001b[0mindex\u001b[0m\u001b[0;34m.\u001b[0m\u001b[0mmin\u001b[0m\u001b[0;34m(\u001b[0m\u001b[0;34m)\u001b[0m\u001b[0;34m\u001b[0m\u001b[0;34m\u001b[0m\u001b[0m\n\u001b[0m\u001b[1;32m     14\u001b[0m       \u001b[0mmax_need_index\u001b[0m \u001b[0;34m=\u001b[0m \u001b[0muser\u001b[0m\u001b[0;34m[\u001b[0m\u001b[0muser\u001b[0m\u001b[0;34m[\u001b[0m\u001b[0mserv\u001b[0m\u001b[0;34m]\u001b[0m \u001b[0;34m==\u001b[0m \u001b[0;36m1\u001b[0m\u001b[0;34m]\u001b[0m\u001b[0;34m.\u001b[0m\u001b[0mindex\u001b[0m\u001b[0;34m.\u001b[0m\u001b[0mmin\u001b[0m\u001b[0;34m(\u001b[0m\u001b[0;34m)\u001b[0m\u001b[0;34m\u001b[0m\u001b[0;34m\u001b[0m\u001b[0m\n\u001b[1;32m     15\u001b[0m       \u001b[0;32mif\u001b[0m \u001b[0mmath\u001b[0m\u001b[0;34m.\u001b[0m\u001b[0misnan\u001b[0m\u001b[0;34m(\u001b[0m\u001b[0mmin_popular_index\u001b[0m\u001b[0;34m)\u001b[0m \u001b[0;32mor\u001b[0m \u001b[0mmath\u001b[0m\u001b[0;34m.\u001b[0m\u001b[0misnan\u001b[0m\u001b[0;34m(\u001b[0m\u001b[0mmax_need_index\u001b[0m\u001b[0;34m)\u001b[0m\u001b[0;34m:\u001b[0m\u001b[0;34m\u001b[0m\u001b[0;34m\u001b[0m\u001b[0m\n",
            "\u001b[0;32m/usr/local/lib/python3.10/dist-packages/pandas/core/ops/common.py\u001b[0m in \u001b[0;36mnew_method\u001b[0;34m(self, other)\u001b[0m\n\u001b[1;32m     70\u001b[0m         \u001b[0mother\u001b[0m \u001b[0;34m=\u001b[0m \u001b[0mitem_from_zerodim\u001b[0m\u001b[0;34m(\u001b[0m\u001b[0mother\u001b[0m\u001b[0;34m)\u001b[0m\u001b[0;34m\u001b[0m\u001b[0;34m\u001b[0m\u001b[0m\n\u001b[1;32m     71\u001b[0m \u001b[0;34m\u001b[0m\u001b[0m\n\u001b[0;32m---> 72\u001b[0;31m         \u001b[0;32mreturn\u001b[0m \u001b[0mmethod\u001b[0m\u001b[0;34m(\u001b[0m\u001b[0mself\u001b[0m\u001b[0;34m,\u001b[0m \u001b[0mother\u001b[0m\u001b[0;34m)\u001b[0m\u001b[0;34m\u001b[0m\u001b[0;34m\u001b[0m\u001b[0m\n\u001b[0m\u001b[1;32m     73\u001b[0m \u001b[0;34m\u001b[0m\u001b[0m\n\u001b[1;32m     74\u001b[0m     \u001b[0;32mreturn\u001b[0m \u001b[0mnew_method\u001b[0m\u001b[0;34m\u001b[0m\u001b[0;34m\u001b[0m\u001b[0m\n",
            "\u001b[0;32m/usr/local/lib/python3.10/dist-packages/pandas/core/arraylike.py\u001b[0m in \u001b[0;36m__eq__\u001b[0;34m(self, other)\u001b[0m\n\u001b[1;32m     40\u001b[0m     \u001b[0;34m@\u001b[0m\u001b[0munpack_zerodim_and_defer\u001b[0m\u001b[0;34m(\u001b[0m\u001b[0;34m\"__eq__\"\u001b[0m\u001b[0;34m)\u001b[0m\u001b[0;34m\u001b[0m\u001b[0;34m\u001b[0m\u001b[0m\n\u001b[1;32m     41\u001b[0m     \u001b[0;32mdef\u001b[0m \u001b[0m__eq__\u001b[0m\u001b[0;34m(\u001b[0m\u001b[0mself\u001b[0m\u001b[0;34m,\u001b[0m \u001b[0mother\u001b[0m\u001b[0;34m)\u001b[0m\u001b[0;34m:\u001b[0m\u001b[0;34m\u001b[0m\u001b[0;34m\u001b[0m\u001b[0m\n\u001b[0;32m---> 42\u001b[0;31m         \u001b[0;32mreturn\u001b[0m \u001b[0mself\u001b[0m\u001b[0;34m.\u001b[0m\u001b[0m_cmp_method\u001b[0m\u001b[0;34m(\u001b[0m\u001b[0mother\u001b[0m\u001b[0;34m,\u001b[0m \u001b[0moperator\u001b[0m\u001b[0;34m.\u001b[0m\u001b[0meq\u001b[0m\u001b[0;34m)\u001b[0m\u001b[0;34m\u001b[0m\u001b[0;34m\u001b[0m\u001b[0m\n\u001b[0m\u001b[1;32m     43\u001b[0m \u001b[0;34m\u001b[0m\u001b[0m\n\u001b[1;32m     44\u001b[0m     \u001b[0;34m@\u001b[0m\u001b[0munpack_zerodim_and_defer\u001b[0m\u001b[0;34m(\u001b[0m\u001b[0;34m\"__ne__\"\u001b[0m\u001b[0;34m)\u001b[0m\u001b[0;34m\u001b[0m\u001b[0;34m\u001b[0m\u001b[0m\n",
            "\u001b[0;32m/usr/local/lib/python3.10/dist-packages/pandas/core/series.py\u001b[0m in \u001b[0;36m_cmp_method\u001b[0;34m(self, other, op)\u001b[0m\n\u001b[1;32m   6241\u001b[0m \u001b[0;34m\u001b[0m\u001b[0m\n\u001b[1;32m   6242\u001b[0m         \u001b[0;32mwith\u001b[0m \u001b[0mnp\u001b[0m\u001b[0;34m.\u001b[0m\u001b[0merrstate\u001b[0m\u001b[0;34m(\u001b[0m\u001b[0mall\u001b[0m\u001b[0;34m=\u001b[0m\u001b[0;34m\"ignore\"\u001b[0m\u001b[0;34m)\u001b[0m\u001b[0;34m:\u001b[0m\u001b[0;34m\u001b[0m\u001b[0;34m\u001b[0m\u001b[0m\n\u001b[0;32m-> 6243\u001b[0;31m             \u001b[0mres_values\u001b[0m \u001b[0;34m=\u001b[0m \u001b[0mops\u001b[0m\u001b[0;34m.\u001b[0m\u001b[0mcomparison_op\u001b[0m\u001b[0;34m(\u001b[0m\u001b[0mlvalues\u001b[0m\u001b[0;34m,\u001b[0m \u001b[0mrvalues\u001b[0m\u001b[0;34m,\u001b[0m \u001b[0mop\u001b[0m\u001b[0;34m)\u001b[0m\u001b[0;34m\u001b[0m\u001b[0;34m\u001b[0m\u001b[0m\n\u001b[0m\u001b[1;32m   6244\u001b[0m \u001b[0;34m\u001b[0m\u001b[0m\n\u001b[1;32m   6245\u001b[0m         \u001b[0;32mreturn\u001b[0m \u001b[0mself\u001b[0m\u001b[0;34m.\u001b[0m\u001b[0m_construct_result\u001b[0m\u001b[0;34m(\u001b[0m\u001b[0mres_values\u001b[0m\u001b[0;34m,\u001b[0m \u001b[0mname\u001b[0m\u001b[0;34m=\u001b[0m\u001b[0mres_name\u001b[0m\u001b[0;34m)\u001b[0m\u001b[0;34m\u001b[0m\u001b[0;34m\u001b[0m\u001b[0m\n",
            "\u001b[0;32m/usr/local/lib/python3.10/dist-packages/pandas/core/ops/array_ops.py\u001b[0m in \u001b[0;36mcomparison_op\u001b[0;34m(left, right, op)\u001b[0m\n\u001b[1;32m    251\u001b[0m     \u001b[0mrvalues\u001b[0m \u001b[0;34m=\u001b[0m \u001b[0mensure_wrapped_if_datetimelike\u001b[0m\u001b[0;34m(\u001b[0m\u001b[0mright\u001b[0m\u001b[0;34m)\u001b[0m\u001b[0;34m\u001b[0m\u001b[0;34m\u001b[0m\u001b[0m\n\u001b[1;32m    252\u001b[0m \u001b[0;34m\u001b[0m\u001b[0m\n\u001b[0;32m--> 253\u001b[0;31m     \u001b[0mrvalues\u001b[0m \u001b[0;34m=\u001b[0m \u001b[0mlib\u001b[0m\u001b[0;34m.\u001b[0m\u001b[0mitem_from_zerodim\u001b[0m\u001b[0;34m(\u001b[0m\u001b[0mrvalues\u001b[0m\u001b[0;34m)\u001b[0m\u001b[0;34m\u001b[0m\u001b[0;34m\u001b[0m\u001b[0m\n\u001b[0m\u001b[1;32m    254\u001b[0m     \u001b[0;32mif\u001b[0m \u001b[0misinstance\u001b[0m\u001b[0;34m(\u001b[0m\u001b[0mrvalues\u001b[0m\u001b[0;34m,\u001b[0m \u001b[0mlist\u001b[0m\u001b[0;34m)\u001b[0m\u001b[0;34m:\u001b[0m\u001b[0;34m\u001b[0m\u001b[0;34m\u001b[0m\u001b[0m\n\u001b[1;32m    255\u001b[0m         \u001b[0;31m# We don't catch tuple here bc we may be comparing e.g. MultiIndex\u001b[0m\u001b[0;34m\u001b[0m\u001b[0;34m\u001b[0m\u001b[0m\n",
            "\u001b[0;31mKeyboardInterrupt\u001b[0m: "
          ]
        }
      ]
    },
    {
      "cell_type": "code",
      "source": [
        "print(RESULTS)"
      ],
      "metadata": {
        "colab": {
          "base_uri": "https://localhost:8080/"
        },
        "id": "AAJXWcF08MU6",
        "outputId": "9a3f3c7b-a1bf-4d28-8ffd-3206d84934d9"
      },
      "execution_count": null,
      "outputs": [
        {
          "output_type": "stream",
          "name": "stdout",
          "text": [
            "{}\n"
          ]
        }
      ]
    }
  ]
}